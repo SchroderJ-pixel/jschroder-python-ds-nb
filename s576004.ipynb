{
 "cells": [
  {
   "cell_type": "markdown",
   "id": "d9f4b809",
   "metadata": {},
   "source": [
    "# Web Mining and Applied NLP (44-620)\n",
    "\n",
    "## Question 10\n",
    "\n",
    "### Student Name: Justin Schroder\n",
    "\n",
    "#### Github Link: [SchroderJ-pixel](https://github.com/SchroderJ-pixel)"
   ]
  },
  {
   "cell_type": "markdown",
   "id": "e62cd646",
   "metadata": {},
   "source": [
    "---"
   ]
  },
  {
   "cell_type": "markdown",
   "id": "d7160709",
   "metadata": {},
   "source": [
    "10. Create a new Jupyter Notebook (the name of the notebook should be your S number). Add a Markdown cell that contains your name. Add a Code cell and write Python that uses loops to draw the following pattern:\n",
    "\n",
    "```\n",
    "*      *\n",
    "**    **\n",
    "***  ***\n",
    "********\n",
    "```\n",
    "Make sure to add and submit both the new notebook and the changes to this notebook for this assignment."
   ]
  },
  {
   "cell_type": "code",
   "execution_count": 12,
   "id": "0ec14843",
   "metadata": {},
   "outputs": [
    {
     "name": "stdout",
     "output_type": "stream",
     "text": [
      "*      *\n",
      "**    **\n",
      "***  ***\n",
      "********\n"
     ]
    }
   ],
   "source": [
    "rows = 4\n",
    "for i in range(1, rows + 1):\n",
    "    stars = \"*\" * i\n",
    "    spaces = \" \" * (2 * (rows - i))\n",
    "    print(stars + spaces + stars)"
   ]
  },
  {
   "cell_type": "markdown",
   "id": "db217259",
   "metadata": {},
   "source": [
    "---"
   ]
  },
  {
   "cell_type": "markdown",
   "id": "a597b903",
   "metadata": {},
   "source": [
    "For Fun (the same but flipped and with a ⭐ emoji): "
   ]
  },
  {
   "cell_type": "code",
   "execution_count": 13,
   "id": "312e0857",
   "metadata": {},
   "outputs": [
    {
     "name": "stdout",
     "output_type": "stream",
     "text": [
      "⭐⭐⭐⭐⭐⭐⭐⭐\n",
      "⭐⭐⭐  ⭐⭐⭐\n",
      "⭐⭐    ⭐⭐\n",
      "⭐      ⭐\n"
     ]
    }
   ],
   "source": [
    "rows = 4\n",
    "for i in range(rows, 0, -1):\n",
    "    emoji = \"⭐\"\n",
    "    stars = emoji * i\n",
    "    spaces = \" \" * (2 * (rows - i))\n",
    "    print(stars + spaces + stars)"
   ]
  }
 ],
 "metadata": {
  "kernelspec": {
   "display_name": ".venv",
   "language": "python",
   "name": "python3"
  },
  "language_info": {
   "codemirror_mode": {
    "name": "ipython",
    "version": 3
   },
   "file_extension": ".py",
   "mimetype": "text/x-python",
   "name": "python",
   "nbconvert_exporter": "python",
   "pygments_lexer": "ipython3",
   "version": "3.13.1"
  }
 },
 "nbformat": 4,
 "nbformat_minor": 5
}
